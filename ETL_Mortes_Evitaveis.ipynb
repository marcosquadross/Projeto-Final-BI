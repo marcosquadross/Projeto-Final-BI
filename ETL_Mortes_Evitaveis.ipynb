{
  "cells": [
    {
      "cell_type": "code",
      "execution_count": 9,
      "metadata": {
        "id": "A7DP1xpnXHRq"
      },
      "outputs": [],
      "source": [
        "import pandas as pd\n",
        "import sqlite3"
      ]
    },
    {
      "cell_type": "code",
      "execution_count": 10,
      "metadata": {
        "colab": {
          "base_uri": "https://localhost:8080/"
        },
        "id": "OkB2mWVtXKk-",
        "outputId": "d6c8d558-c9e9-469f-cbbf-98d2218729e5"
      },
      "outputs": [
        {
          "output_type": "stream",
          "name": "stdout",
          "text": [
            "Drive already mounted at /content/drive; to attempt to forcibly remount, call drive.mount(\"/content/drive\", force_remount=True).\n"
          ]
        }
      ],
      "source": [
        "from google.colab import drive\n",
        "drive.mount('/content/drive')"
      ]
    },
    {
      "cell_type": "code",
      "execution_count": 11,
      "metadata": {
        "id": "u6UVKLghXMTR"
      },
      "outputs": [],
      "source": [
        "URL = \"/content/drive/MyDrive/Projeto_Final_BI/\""
      ]
    },
    {
      "cell_type": "code",
      "execution_count": 12,
      "metadata": {
        "id": "Rur4Our7XN3T"
      },
      "outputs": [],
      "source": [
        "conn = sqlite3.connect(URL+\"staging.db\")"
      ]
    },
    {
      "cell_type": "code",
      "execution_count": 13,
      "metadata": {
        "colab": {
          "base_uri": "https://localhost:8080/"
        },
        "id": "ZSE9zWyPW83q",
        "outputId": "321c9a85-ffee-455b-d1fc-1b369e1a59e4"
      },
      "outputs": [
        {
          "output_type": "execute_result",
          "data": {
            "text/plain": [
              "4564"
            ]
          },
          "metadata": {},
          "execution_count": 13
        }
      ],
      "source": [
        "df_obitos_0_4 = pd.read_csv(URL+\"Obitos_Evitaveis_0_a_4.csv\")\n",
        "df_obitos_5_74 = pd.read_csv(URL+\"Obitos_Evitaveis_5_a_74.csv\")\n",
        "\n",
        "df_obitos_0_4[\"Código CID-10\"] = df_obitos_0_4[\"Código CID-10\"].str.replace(\".\", \"\")\n",
        "df_obitos_5_74[\"Código CID-10\"] = df_obitos_5_74[\"Código CID-10\"].str.replace(\".\", \"\")\n",
        "\n",
        "df_obitos_0_4.to_sql(\"obitos_evitaveis_infantil\", conn, if_exists=\"replace\", index=False)\n",
        "df_obitos_5_74.to_sql(\"obitos_evitaveis_adulto\", conn, if_exists=\"replace\", index=False)"
      ]
    },
    {
      "cell_type": "code",
      "execution_count": null,
      "metadata": {
        "id": "_61kq1ojXnn8"
      },
      "outputs": [],
      "source": []
    }
  ],
  "metadata": {
    "colab": {
      "provenance": []
    },
    "kernelspec": {
      "display_name": "Python 3",
      "name": "python3"
    },
    "language_info": {
      "name": "python"
    }
  },
  "nbformat": 4,
  "nbformat_minor": 0
}