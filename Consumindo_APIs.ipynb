{
  "nbformat": 4,
  "nbformat_minor": 0,
  "metadata": {
    "colab": {
      "provenance": []
    },
    "kernelspec": {
      "name": "python3",
      "display_name": "Python 3"
    },
    "language_info": {
      "name": "python"
    }
  },
  "cells": [
    {
      "cell_type": "code",
      "execution_count": null,
      "metadata": {
        "id": "To03L-leOs7b"
      },
      "outputs": [],
      "source": [
        "import requests\n",
        "from concurrent.futures import ThreadPoolExecutor, as_completed\n",
        "import pandas as pd\n",
        "from google.colab import files\n",
        "\n",
        "BASE_URL = \"https://apidadosabertos.saude.gov.br/vigilancia-e-meio-ambiente/sistema-de-informacao-sobre-mortalidade\"\n",
        "MAX_LIMIT = 1000\n",
        "MAX_WORKERS = 8\n",
        "\n",
        "def fetch_chunk(offset):\n",
        "    \"\"\"Busca um bloco de registros a partir de um offset.\"\"\"\n",
        "    params = {\"limit\": MAX_LIMIT, \"offset\": offset}\n",
        "    response = requests.get(BASE_URL, params=params)\n",
        "    response.raise_for_status()\n",
        "    data = response.json()\n",
        "    records = data.get(\"sim\", [])\n",
        "    print(f\"Offset {offset}\")\n",
        "    return records\n",
        "\n",
        "all_records = []\n",
        "offset = 0\n",
        "has_more = True\n",
        "PASSO = 400000\n",
        "proxima_meta = PASSO\n",
        "ultimo_indice_salvo = 0\n",
        "\n",
        "with ThreadPoolExecutor(max_workers=MAX_WORKERS) as executor:\n",
        "    futures = []\n",
        "    while has_more:\n",
        "        for _ in range(MAX_WORKERS):\n",
        "            futures.append(executor.submit(fetch_chunk, offset))\n",
        "            offset += MAX_LIMIT\n",
        "\n",
        "        for future in as_completed(futures):\n",
        "            records = future.result()\n",
        "            if records:\n",
        "                all_records.extend(records)\n",
        "\n",
        "                if len(all_records) >= proxima_meta:\n",
        "                    novos_registros = all_records[ultimo_indice_salvo:len(all_records)]\n",
        "                    df_temp = pd.DataFrame(novos_registros)\n",
        "                    df_temp.to_csv(f\"/content/drive/MyDrive/Projeto_Final/mortalidade_{len(all_records)}.csv\", index=False, encoding=\"utf-8\")\n",
        "\n",
        "\n",
        "                    ultimo_indice_salvo = len(all_records)\n",
        "                    proxima_meta += PASSO\n",
        "            else:\n",
        "                has_more = False\n",
        "        futures.clear()\n",
        "\n",
        "print(f\"Total baixado: {len(all_records)} registros.\")\n",
        "\n",
        "df2 = pd.DataFrame(all_records)"
      ]
    },
    {
      "cell_type": "code",
      "source": [
        "url_cid = \"https://cid10.cpp-ti.com.br/api\"\n",
        "response = requests.get(url_cid)\n",
        "\n",
        "dados = response.json()\n",
        "\n",
        "lista_registros = dados['data']\n",
        "df = pd.DataFrame(lista_registros, columns=[\"codigo\", \"nome\", \"codigo_nome\"])\n",
        "\n",
        "df.to_csv(\"/content/drive/MyDrive/Projeto_Final/cid10.csv\", index=False, encoding=\"utf-8\")"
      ],
      "metadata": {
        "id": "pa7IPI0GPMM2"
      },
      "execution_count": null,
      "outputs": []
    }
  ]
}