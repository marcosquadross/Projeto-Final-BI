{
  "nbformat": 4,
  "nbformat_minor": 0,
  "metadata": {
    "colab": {
      "provenance": []
    },
    "kernelspec": {
      "name": "python3",
      "display_name": "Python 3"
    },
    "language_info": {
      "name": "python"
    }
  },
  "cells": [
    {
      "cell_type": "code",
      "execution_count": null,
      "metadata": {
        "id": "3vCDkPDwFo_o"
      },
      "outputs": [],
      "source": [
        "import pandas as pd\n",
        "import glob\n",
        "\n",
        "caminho_arquivos = \"/content/drive/MyDrive/Projeto_Final/mortalidade_*.csv\"\n",
        "\n",
        "arquivos_csv = glob.glob(caminho_arquivos)\n",
        "\n",
        "lista_dfs = []\n",
        "\n",
        "for arquivo in arquivos_csv:\n",
        "    df = pd.read_csv(arquivo, encoding=\"utf-8\")\n",
        "    lista_dfs.append(df)\n",
        "    print(f\"Carregado: {arquivo} ({len(df)} registros)\")\n",
        "\n",
        "\n",
        "df_total = pd.concat(lista_dfs, ignore_index=True)\n",
        "df_total"
      ]
    },
    {
      "cell_type": "code",
      "source": [
        "df_total['dtobito'] = df_total['dtobito'].astype(str)\n",
        "df_total['dtobito'] = df_total['dtobito'].apply(lambda x: x.zfill(8))\n",
        "df_total['dtobito'] = pd.to_datetime(df_total['dtobito'], format='%d%m%Y', errors='coerce')\n",
        "df_total['dtobito']"
      ],
      "metadata": {
        "id": "6gIXkQJVIIDM"
      },
      "execution_count": null,
      "outputs": []
    },
    {
      "cell_type": "code",
      "source": [
        "df_2024 = df_total[df_total['dtobito'].dt.year == 2024]\n",
        "df_2024"
      ],
      "metadata": {
        "id": "4nBN4-GaL8WO"
      },
      "execution_count": null,
      "outputs": []
    },
    {
      "cell_type": "code",
      "source": [
        "df_2024.to_csv('/content/drive/MyDrive/Projeto_Final/mortalidade_2024.csv', index=False)"
      ],
      "metadata": {
        "id": "LbOVsnYuNggZ"
      },
      "execution_count": null,
      "outputs": []
    }
  ]
}