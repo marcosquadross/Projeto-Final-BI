{
  "nbformat": 4,
  "nbformat_minor": 0,
  "metadata": {
    "colab": {
      "provenance": []
    },
    "kernelspec": {
      "name": "python3",
      "display_name": "Python 3"
    },
    "language_info": {
      "name": "python"
    }
  },
  "cells": [
    {
      "cell_type": "code",
      "source": [
        "import requests\n",
        "import pandas as pd\n",
        "import sqlite3\n",
        "\n",
        "url_ibge = \"https://servicodados.ibge.gov.br/api/v1/localidades/municipios\"\n",
        "URL = \"/content/drive/MyDrive/Projeto_Final_BI/\""
      ],
      "metadata": {
        "id": "SDiKYzMCWXiy"
      },
      "execution_count": 1,
      "outputs": []
    },
    {
      "cell_type": "code",
      "execution_count": 2,
      "metadata": {
        "id": "UN1DzZgNWSA6"
      },
      "outputs": [],
      "source": [
        "resp = requests.get(url_ibge)\n",
        "municipios = resp.json()\n",
        "\n",
        "df = pd.json_normalize(municipios)\n",
        "\n",
        "df = df[[\n",
        "    \"id\",\n",
        "    \"nome\",\n",
        "    \"microrregiao.nome\",\n",
        "    \"microrregiao.mesorregiao.UF.sigla\",\n",
        "    \"microrregiao.mesorregiao.UF.nome\"\n",
        "]]\n",
        "\n",
        "df.columns = [\"codigo_ibge\", \"municipio\", \"microrregiao\", \"uf_sigla\", \"uf_nome\"]\n",
        "\n",
        "\n",
        "df.to_csv(\"/content/drive/MyDrive/Projeto_Final_BI/localidades.csv\", index=False, encoding=\"utf-8\")"
      ]
    },
    {
      "cell_type": "code",
      "source": [
        "conn = sqlite3.connect(URL+\"staging.db\")\n",
        "df.to_sql('localidades', conn, if_exists='replace', index=False)\n",
        "conn.close()"
      ],
      "metadata": {
        "id": "p5tY8HuPZrNH"
      },
      "execution_count": 3,
      "outputs": []
    }
  ]
}