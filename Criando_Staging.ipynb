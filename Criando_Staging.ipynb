{
  "nbformat": 4,
  "nbformat_minor": 0,
  "metadata": {
    "colab": {
      "provenance": []
    },
    "kernelspec": {
      "name": "python3",
      "display_name": "Python 3"
    },
    "language_info": {
      "name": "python"
    }
  },
  "cells": [
    {
      "cell_type": "code",
      "source": [
        "import pandas as pd\n",
        "import numpy as np\n",
        "import os\n",
        "import glob\n",
        "import sqlite3\n",
        "import gc"
      ],
      "metadata": {
        "id": "dlG16pzx56Vl"
      },
      "execution_count": 1,
      "outputs": []
    },
    {
      "cell_type": "code",
      "source": [
        "from google.colab import drive\n",
        "drive.mount('/content/drive')"
      ],
      "metadata": {
        "colab": {
          "base_uri": "https://localhost:8080/"
        },
        "id": "4ZdfS7QGawfu",
        "outputId": "f265b849-faf0-4baa-c757-f1f9bdce46ed"
      },
      "execution_count": 2,
      "outputs": [
        {
          "output_type": "stream",
          "name": "stdout",
          "text": [
            "Mounted at /content/drive\n"
          ]
        }
      ]
    },
    {
      "cell_type": "code",
      "source": [
        "#!unzip /content/drive/MyDrive/Projeto_Final_BI/Mortalidade_Geral.zip -d /content/drive/MyDrive/Projeto_Final_BI/"
      ],
      "metadata": {
        "id": "0BelgRKb7GFo"
      },
      "execution_count": null,
      "outputs": []
    },
    {
      "cell_type": "code",
      "source": [
        "URL = \"/content/drive/MyDrive/Projeto_Final_BI/\""
      ],
      "metadata": {
        "id": "_fA0c3Csfrkk"
      },
      "execution_count": 3,
      "outputs": []
    },
    {
      "cell_type": "code",
      "source": [
        "conn = sqlite3.connect(URL+\"staging.db\")"
      ],
      "metadata": {
        "id": "qLMWbCZTekR5"
      },
      "execution_count": 23,
      "outputs": []
    },
    {
      "cell_type": "code",
      "source": [
        "df_18 = pd.read_csv(URL+\"Mortalidade_Geral_2018.csv\", sep=\";\")"
      ],
      "metadata": {
        "colab": {
          "base_uri": "https://localhost:8080/"
        },
        "id": "ys-Bsh2ZDA8N",
        "outputId": "ccfb8739-9954-49f8-c859-b78e9c0819a2",
        "collapsed": true
      },
      "execution_count": 5,
      "outputs": [
        {
          "output_type": "stream",
          "name": "stderr",
          "text": [
            "/tmp/ipython-input-1332851786.py:1: DtypeWarning: Columns (66) have mixed types. Specify dtype option on import or set low_memory=False.\n",
            "  df_18 = pd.read_csv(URL+\"Mortalidade_Geral_2018.csv\", sep=\";\")\n"
          ]
        }
      ]
    },
    {
      "cell_type": "code",
      "source": [
        "df_19 = pd.read_csv(URL+\"Mortalidade_Geral_2019.csv\", sep=\";\")"
      ],
      "metadata": {
        "id": "di7XqwzBD-rX",
        "colab": {
          "base_uri": "https://localhost:8080/"
        },
        "collapsed": true,
        "outputId": "03fc0a49-de81-4fc8-fbda-65526418d5e8"
      },
      "execution_count": 6,
      "outputs": [
        {
          "output_type": "stream",
          "name": "stderr",
          "text": [
            "/tmp/ipython-input-103563467.py:1: DtypeWarning: Columns (66) have mixed types. Specify dtype option on import or set low_memory=False.\n",
            "  df_19 = pd.read_csv(URL+\"Mortalidade_Geral_2019.csv\", sep=\";\")\n"
          ]
        }
      ]
    },
    {
      "cell_type": "code",
      "source": [
        "df_20 = pd.read_csv(URL+\"Mortalidade_Geral_2020.csv\", sep=\";\")"
      ],
      "metadata": {
        "colab": {
          "base_uri": "https://localhost:8080/"
        },
        "collapsed": true,
        "id": "ExyhcpdPbhg3",
        "outputId": "7a038668-ac38-4bf2-8bb6-0c148d5de3ba"
      },
      "execution_count": 7,
      "outputs": [
        {
          "output_type": "stream",
          "name": "stderr",
          "text": [
            "/tmp/ipython-input-4102249514.py:1: DtypeWarning: Columns (66,79) have mixed types. Specify dtype option on import or set low_memory=False.\n",
            "  df_20 = pd.read_csv(URL+\"Mortalidade_Geral_2020.csv\", sep=\";\")\n"
          ]
        }
      ]
    },
    {
      "cell_type": "code",
      "source": [
        "df_21 = pd.read_csv(URL+\"Mortalidade_Geral_2021.csv\", sep=\";\")"
      ],
      "metadata": {
        "colab": {
          "base_uri": "https://localhost:8080/"
        },
        "id": "yxfonI7Lclvy",
        "outputId": "c5bbb379-366e-4efb-c907-54b070670758"
      },
      "execution_count": 8,
      "outputs": [
        {
          "output_type": "stream",
          "name": "stderr",
          "text": [
            "/tmp/ipython-input-1270836982.py:1: DtypeWarning: Columns (66) have mixed types. Specify dtype option on import or set low_memory=False.\n",
            "  df_21 = pd.read_csv(URL+\"Mortalidade_Geral_2021.csv\", sep=\";\")\n"
          ]
        }
      ]
    },
    {
      "cell_type": "code",
      "source": [
        "df_22 = pd.read_csv(URL+\"Mortalidade_Geral_2022.csv\", sep=\";\")"
      ],
      "metadata": {
        "colab": {
          "base_uri": "https://localhost:8080/"
        },
        "id": "T7Z4uqRWcw4O",
        "outputId": "9505f968-62f2-4f6f-a317-447bd544e368"
      },
      "execution_count": 9,
      "outputs": [
        {
          "output_type": "stream",
          "name": "stderr",
          "text": [
            "/tmp/ipython-input-794182228.py:1: DtypeWarning: Columns (66) have mixed types. Specify dtype option on import or set low_memory=False.\n",
            "  df_22 = pd.read_csv(URL+\"Mortalidade_Geral_2022.csv\", sep=\";\")\n"
          ]
        }
      ]
    },
    {
      "cell_type": "code",
      "source": [
        "df_23 = pd.read_csv(URL+\"Mortalidade_Geral_2023.csv\", sep=\";\")\n",
        "df_23 = df_23.rename(columns={'contador': 'CONTADOR'})"
      ],
      "metadata": {
        "colab": {
          "base_uri": "https://localhost:8080/"
        },
        "id": "wEzKR8-Bc3wR",
        "outputId": "e037d541-61da-426e-8df8-ea83013ff39c"
      },
      "execution_count": 10,
      "outputs": [
        {
          "output_type": "stream",
          "name": "stderr",
          "text": [
            "/tmp/ipython-input-3465513044.py:1: DtypeWarning: Columns (65) have mixed types. Specify dtype option on import or set low_memory=False.\n",
            "  df_23 = pd.read_csv(URL+\"Mortalidade_Geral_2023.csv\", sep=\";\")\n"
          ]
        }
      ]
    },
    {
      "cell_type": "code",
      "source": [
        "df_24 = pd.read_csv(URL+\"Mortalidade_Geral_2024.csv\", sep=\";\")\n",
        "df_24 = df_24.rename(columns={'contador': 'CONTADOR'})"
      ],
      "metadata": {
        "colab": {
          "base_uri": "https://localhost:8080/"
        },
        "id": "-XZjAAwjRIHK",
        "outputId": "3e625e15-6611-4a7c-ba96-8162333412c1"
      },
      "execution_count": 11,
      "outputs": [
        {
          "output_type": "stream",
          "name": "stderr",
          "text": [
            "/tmp/ipython-input-1797566191.py:1: DtypeWarning: Columns (65) have mixed types. Specify dtype option on import or set low_memory=False.\n",
            "  df_24 = pd.read_csv(URL+\"Mortalidade_Geral_2024.csv\", sep=\";\")\n"
          ]
        }
      ]
    },
    {
      "cell_type": "code",
      "source": [
        "cols_18 = df_18.columns.values\n",
        "cols_23 = df_23.columns.values\n",
        "cols_24 = df_24.columns.values\n",
        "\n",
        "set18 = set(cols_18)\n",
        "set23 = set(cols_23)\n",
        "set24 = set(cols_24)"
      ],
      "metadata": {
        "id": "jdlC93HfOCdF"
      },
      "execution_count": 12,
      "outputs": []
    },
    {
      "cell_type": "code",
      "source": [
        "colunas_18 = list(set18 - set24)\n",
        "colunas_24 = list(set24 - set18)\n",
        "\n",
        "to_drop = [\"HORAOBITO\", \"CODMUNNATU\", \"ESC\", \"SERIESCFAL\", \"OCUP\",\n",
        "           \"LOCOCOR\", \"CODESTAB\", \"ESTABDESCR\", \"IDADEMAE\", \"ESCMAE\",\n",
        "           \"ESCMAE2010\", \"SERIESCMAE\", \"OCUPMAE\", \"QTDFILVIVO\", \"QTDFILMORT\", \"SEMAGESTAC\", \"CB_PRE\",\n",
        "           \"DTATESTADO\", \"FONTE\", \"NUMEROLOTE\", \"DTINVESTIG\", \"CAUSABAS_O\",\n",
        "           \"DTCADASTRO\", \"ATESTANTE\", \"STCODIFICA\", \"CODIFICADO\", \"VERSAOSIST\",\n",
        "           \"VERSAOSCB\", \"FONTEINV\", \"DTRECEBIM\", \"ESCMAEAGR1\", \"ESCFALAGR1\",\n",
        "           \"STDONOVA\", \"NUDIASOBCO\", \"NUDIASOBIN\", \"DTCADINV\", \"DTCONINV\",\n",
        "           \"FONTES\", \"TPNIVELINV\", \"NUDIASINF\", \"DTCADINF\", \"DTCONCASO\",\n",
        "           \"FONTESINF\"]\n",
        "\n",
        "lista_to_drop = to_drop + colunas_18 + colunas_24\n",
        "\n",
        "lista_to_drop = list(set(lista_to_drop))"
      ],
      "metadata": {
        "id": "pB55SAJkPQP0"
      },
      "execution_count": 13,
      "outputs": []
    },
    {
      "cell_type": "code",
      "source": [
        "df_keys = {\n",
        "    \"2018\" : df_18,\n",
        "    \"2019\" : df_19,\n",
        "    \"2020\" : df_20,\n",
        "    \"2021\" : df_21,\n",
        "    \"2022\" : df_22,\n",
        "    \"2023\" : df_23,\n",
        "    \"2024\" : df_24\n",
        "}"
      ],
      "metadata": {
        "id": "ytKpkb8her_p"
      },
      "execution_count": 14,
      "outputs": []
    },
    {
      "cell_type": "code",
      "source": [
        "for key in list(df_keys.keys()):\n",
        "  df_keys[key].drop(columns=[c for c in df_keys[key].columns if c in lista_to_drop],\n",
        "                      inplace=True)"
      ],
      "metadata": {
        "id": "3R0rFUwDnh0A"
      },
      "execution_count": 19,
      "outputs": []
    },
    {
      "cell_type": "code",
      "source": [
        "for key in list(df_keys.keys()):\n",
        "    df_keys[key].to_sql(\"mortalidade\", conn, if_exists=\"append\", index=False)\n",
        "    print(f\"Tabela mortalidade_{key} criada com sucesso! Com {len(df_keys[key])} registros.\")\n",
        "    del df_keys[key]\n",
        "    gc.collect()"
      ],
      "metadata": {
        "colab": {
          "base_uri": "https://localhost:8080/"
        },
        "id": "WUEkZ3aAe-n_",
        "outputId": "4befa4be-90b4-4dc7-9a9b-b5e8f8ad8875"
      },
      "execution_count": 24,
      "outputs": [
        {
          "output_type": "stream",
          "name": "stdout",
          "text": [
            "Tabela mortalidade_2018 criada com sucesso! Com 1316719 registros.\n",
            "Tabela mortalidade_2019 criada com sucesso! Com 1349801 registros.\n",
            "Tabela mortalidade_2020 criada com sucesso! Com 1556824 registros.\n",
            "Tabela mortalidade_2021 criada com sucesso! Com 1832649 registros.\n",
            "Tabela mortalidade_2022 criada com sucesso! Com 1544266 registros.\n",
            "Tabela mortalidade_2023 criada com sucesso! Com 1465610 registros.\n",
            "Tabela mortalidade_2024 criada com sucesso! Com 1426346 registros.\n"
          ]
        }
      ]
    },
    {
      "cell_type": "code",
      "source": [
        "cursor = conn.cursor()"
      ],
      "metadata": {
        "id": "LdWQ-pjJffdT"
      },
      "execution_count": 26,
      "outputs": []
    },
    {
      "cell_type": "code",
      "source": [
        "#Nome de todas as tabelas\n",
        "cursor.execute(\"SELECT name FROM sqlite_master WHERE type='table';\")\n",
        "tabelas = [t[0] for t in cursor.fetchall()]\n",
        "print(\"Tabelas:\", tabelas)"
      ],
      "metadata": {
        "colab": {
          "base_uri": "https://localhost:8080/"
        },
        "id": "A3a7Aa5nlta0",
        "outputId": "b6bd789d-1e79-4ea3-b9e4-59fd481a398d"
      },
      "execution_count": 27,
      "outputs": [
        {
          "output_type": "stream",
          "name": "stdout",
          "text": [
            "Tabelas: ['mortalidade']\n"
          ]
        }
      ]
    },
    {
      "cell_type": "code",
      "source": [
        "colunas_por_tabela = {}\n",
        "\n",
        "for tabela in tabelas:\n",
        "    cursor.execute(f'PRAGMA table_info(\"{tabela}\")')\n",
        "    colunas = [row[1].upper() for row in cursor.fetchall()]  # pega os nomes em maiúsculo\n",
        "    colunas_por_tabela[tabela] = colunas\n"
      ],
      "metadata": {
        "id": "uZpaazA7oi6v"
      },
      "execution_count": 28,
      "outputs": []
    },
    {
      "cell_type": "code",
      "source": [
        "for item in colunas_por_tabela.values():\n",
        "  print(item)"
      ],
      "metadata": {
        "colab": {
          "base_uri": "https://localhost:8080/"
        },
        "id": "dDWmhQelobsl",
        "outputId": "c403d09b-0a35-4c28-df6c-33934b6a5a76"
      },
      "execution_count": 29,
      "outputs": [
        {
          "output_type": "stream",
          "name": "stdout",
          "text": [
            "['ORIGEM', 'TIPOBITO', 'DTOBITO', 'NATURAL', 'DTNASC', 'IDADE', 'SEXO', 'RACACOR', 'ESTCIV', 'ESC2010', 'CODMUNRES', 'CODMUNOCOR', 'GRAVIDEZ', 'GESTACAO', 'PARTO', 'OBITOPARTO', 'PESO', 'TPMORTEOCO', 'OBITOGRAV', 'OBITOPUERP', 'ASSISTMED', 'EXAME', 'CIRURGIA', 'NECROPSIA', 'LINHAA', 'LINHAB', 'LINHAC', 'LINHAD', 'LINHAII', 'CAUSABAS', 'COMUNSVOIM', 'CIRCOBITO', 'ACIDTRAB', 'TPPOS', 'ATESTADO', 'DTRECORIGA', 'CAUSAMAT', 'STDOEPIDEM', 'DIFDATA', 'TPOBITOCOR', 'TPRESGINFO', 'MORTEPARTO', 'ALTCAUSA', 'CONTADOR']\n"
          ]
        }
      ]
    },
    {
      "cell_type": "code",
      "source": [
        "cursor.execute(\"SELECT COUNT(CONTADOR) FROM mortalidade\")\n",
        "cursor.fetchall()"
      ],
      "metadata": {
        "colab": {
          "base_uri": "https://localhost:8080/"
        },
        "collapsed": true,
        "id": "GGUa8MKxfhtu",
        "outputId": "0d96f784-2862-46d9-9168-05639ed9d297"
      },
      "execution_count": 30,
      "outputs": [
        {
          "output_type": "execute_result",
          "data": {
            "text/plain": [
              "[(10492215,)]"
            ]
          },
          "metadata": {},
          "execution_count": 30
        }
      ]
    },
    {
      "cell_type": "code",
      "source": [
        "df_cid = pd.read_csv(URL+\"CID_10.csv\", sep=\";\")\n",
        "df_cid.to_sql(\"cid\", conn, if_exists=\"replace\", index=False)"
      ],
      "metadata": {
        "id": "H1zZIHOejjb2",
        "colab": {
          "base_uri": "https://localhost:8080/"
        },
        "outputId": "2b5db35f-1baa-49db-916d-77d88178089c"
      },
      "execution_count": 31,
      "outputs": [
        {
          "output_type": "execute_result",
          "data": {
            "text/plain": [
              "14233"
            ]
          },
          "metadata": {},
          "execution_count": 31
        }
      ]
    },
    {
      "cell_type": "code",
      "source": [
        "df_obitos_0_4 = pd.read_csv(URL+\"Obitos_Evitaveis_0_a_4.csv\", sep=\";\")\n",
        "df_obitos_5_74 = pd.read_csv(URL+\"Obitos_Evitaveis_5_a_74.csv\", sep=\";\")\n",
        "\n",
        "df_obitos_0_4.to_sql(\"obitos_evitaveis_infantil\", conn, if_exists=\"replace\", index=False)\n",
        "df_obitos_5_74.to_sql(\"obitos_evitaveis_adulto\", conn, if_exists=\"replace\", index=False)"
      ],
      "metadata": {
        "colab": {
          "base_uri": "https://localhost:8080/"
        },
        "id": "ecrzcaHmsUTO",
        "outputId": "4bb42020-cf78-42bc-d79c-dec5a40594ab"
      },
      "execution_count": 33,
      "outputs": [
        {
          "output_type": "execute_result",
          "data": {
            "text/plain": [
              "4564"
            ]
          },
          "metadata": {},
          "execution_count": 33
        }
      ]
    }
  ]
}